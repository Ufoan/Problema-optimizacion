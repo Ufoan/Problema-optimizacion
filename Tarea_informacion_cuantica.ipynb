{
  "nbformat": 4,
  "nbformat_minor": 0,
  "metadata": {
    "colab": {
      "provenance": [],
      "authorship_tag": "ABX9TyNfqjNr4JO1RPv8Sz6k1iMw",
      "include_colab_link": true
    },
    "kernelspec": {
      "name": "python3",
      "display_name": "Python 3"
    },
    "language_info": {
      "name": "python"
    }
  },
  "cells": [
    {
      "cell_type": "markdown",
      "metadata": {
        "id": "view-in-github",
        "colab_type": "text"
      },
      "source": [
        "<a href=\"https://colab.research.google.com/github/Ufoan/Problema-optimizacion/blob/main/Tarea_informacion_cuantica.ipynb\" target=\"_parent\"><img src=\"https://colab.research.google.com/assets/colab-badge.svg\" alt=\"Open In Colab\"/></a>"
      ]
    },
    {
      "cell_type": "markdown",
      "source": [
        "# Paquetes"
      ],
      "metadata": {
        "id": "moD-0wMyIlXa"
      }
    },
    {
      "cell_type": "code",
      "execution_count": null,
      "metadata": {
        "id": "013Vk3MmHmwF"
      },
      "outputs": [],
      "source": [
        "import numpy as np\n",
        "import scipy\n",
        "import matplotlib.pyplot as plt"
      ]
    },
    {
      "cell_type": "markdown",
      "source": [
        "# Creación de funciones"
      ],
      "metadata": {
        "id": "SwUkdhSFIzoG"
      }
    },
    {
      "cell_type": "markdown",
      "source": [
        "**Definición matrices de Pauli e identidad:**"
      ],
      "metadata": {
        "id": "d_o1Lg_ZLrZd"
      }
    },
    {
      "cell_type": "code",
      "source": [
        "X = np.array([[0,1],[1,0]],dtype=complex)\n",
        "Y = np.array([[0,-1j],[1j,0]],dtype=complex)\n",
        "Z = np.array([[1,0],[0,-1]],dtype=complex)\n",
        "I = np.eye(2,dtype=complex)"
      ],
      "metadata": {
        "id": "uu65-XZQI4Cf"
      },
      "execution_count": null,
      "outputs": []
    },
    {
      "cell_type": "markdown",
      "source": [
        "**Encontamos los vectores propios de las matrices de Pauli y los respectivos proyectores:**"
      ],
      "metadata": {
        "id": "HySJ4JGuRH-W"
      }
    },
    {
      "cell_type": "code",
      "source": [
        "valores_propios_X, vectores_propios_X = np.linalg.eig(X)\n",
        "valores_propios_Y, vectores_propios_Y = np.linalg.eig(Y)\n",
        "valores_propios_Z, vectores_propios_Z = np.linalg.eig(Z)\n",
        "id_mas_X = np.argmin(np.abs(valores_propios_X-1))\n",
        "id_menos_X = np.argmin(np.abs(valores_propios_X+1))\n",
        "id_mas_Y = np.argmin(np.abs(valores_propios_Y-1))\n",
        "id_menos_Y = np.argmin(np.abs(valores_propios_Y+1))\n",
        "id_mas_Z = np.argmin(np.abs(valores_propios_Z-1))\n",
        "id_menos_Z = np.argmin(np.abs(valores_propios_Z+1))\n",
        "mas_X = vectores_propios_X[:,id_mas_X]\n",
        "menos_X = vectores_propios_X[:,id_menos_X]\n",
        "mas_Y = vectores_propios_Y[:,id_mas_Y]\n",
        "menos_Y = vectores_propios_Y[:,id_menos_Y]\n",
        "mas_Z = vectores_propios_Z[:,id_mas_Z]\n",
        "menos_Z = vectores_propios_Z[:,id_menos_Z]\n",
        "Pi_X_mas = np.outer(mas_X,mas_X.conj())\n",
        "Pi_Y_mas = np.outer(mas_Y,mas_Y.conj())\n",
        "Pi_Z_mas = np.outer(mas_Z,mas_Z.conj())\n",
        "Pi_X_menos = np.outer(menos_X,menos_X.conj())\n",
        "Pi_Y_menos = np.outer(menos_Y,menos_Y.conj())\n",
        "Pi_Z_menos = np.outer(menos_Z,menos_Z.conj())"
      ],
      "metadata": {
        "id": "t5NBKkR8Qulh"
      },
      "execution_count": null,
      "outputs": []
    },
    {
      "cell_type": "code",
      "source": [
        "Pi_Y_mas"
      ],
      "metadata": {
        "colab": {
          "base_uri": "https://localhost:8080/"
        },
        "id": "0hG_D2z8koaV",
        "outputId": "07dae503-4686-483b-c88c-4200aee3e394"
      },
      "execution_count": null,
      "outputs": [
        {
          "output_type": "execute_result",
          "data": {
            "text/plain": [
              "array([[ 0.5+0.j , -0. -0.5j],\n",
              "       [-0. +0.5j,  0.5+0.j ]])"
            ]
          },
          "metadata": {},
          "execution_count": 4
        }
      ]
    },
    {
      "cell_type": "code",
      "source": [
        "Pi_Y_menos"
      ],
      "metadata": {
        "colab": {
          "base_uri": "https://localhost:8080/"
        },
        "id": "AgUmdA1rk0DI",
        "outputId": "9dedac6a-db06-4f73-9d58-c36ee09bf8ac"
      },
      "execution_count": null,
      "outputs": [
        {
          "output_type": "execute_result",
          "data": {
            "text/plain": [
              "array([[0.5+0.j , 0. +0.5j],\n",
              "       [0. -0.5j, 0.5+0.j ]])"
            ]
          },
          "metadata": {},
          "execution_count": 5
        }
      ]
    },
    {
      "cell_type": "markdown",
      "source": [
        "**Crear de manera aleatoria un $\\rho$, encontrando aleatoriamente un vector $\\vec{a}$ con $\\|\\vec{a}\\|\\leq 1$**"
      ],
      "metadata": {
        "id": "9OPWAAW0Lxik"
      }
    },
    {
      "cell_type": "code",
      "source": [
        "def estado_aleatorio():\n",
        "    a_init = np.random.normal(0,1,3) #dirección aleatoria\n",
        "    a_init_norm = a_init/np.linalg.norm(a_init) #vector en S2 normalizado, generado aleatoriamente, ahora falta dentro de la bola\n",
        "    r = np.random.rand()**(1/3) #un radio aleatorio\n",
        "    a = r * a_init_norm #el a\n",
        "    rho = 0.5*(I+a[0]*X+a[1]*Y+a[2]*Z)\n",
        "    return rho\n",
        "\n"
      ],
      "metadata": {
        "id": "2m2qBkzVMLXw"
      },
      "execution_count": null,
      "outputs": []
    },
    {
      "cell_type": "code",
      "source": [
        "rho_1 = estado_aleatorio()\n",
        "rho_1"
      ],
      "metadata": {
        "colab": {
          "base_uri": "https://localhost:8080/"
        },
        "id": "wu1kvzy3MGCb",
        "outputId": "2b149dc2-75b2-4fc0-e15b-0615fd787f14"
      },
      "execution_count": null,
      "outputs": [
        {
          "output_type": "execute_result",
          "data": {
            "text/plain": [
              "array([[0.70544356+0.j       , 0.03280324+0.0939113j],\n",
              "       [0.03280324-0.0939113j, 0.29455644+0.j       ]])"
            ]
          },
          "metadata": {},
          "execution_count": 12
        }
      ]
    },
    {
      "cell_type": "markdown",
      "source": [
        "**Definimos función para calcular las probabilidades $P(\\pm (i))$:**"
      ],
      "metadata": {
        "id": "PXQE02NYS6Z-"
      }
    },
    {
      "cell_type": "code",
      "source": [
        "def probabilidades(rho):\n",
        "    P_X_mas = np.real_if_close(np.trace(rho@Pi_X_mas))\n",
        "    P_X_menos = np.real_if_close(np.trace(rho@Pi_X_menos))\n",
        "    P_Y_mas = np.real_if_close(np.trace(rho@Pi_Y_mas))\n",
        "    P_Y_menos = np.real_if_close(np.trace(rho@Pi_Y_menos))\n",
        "    P_Z_mas = np.real_if_close(np.trace(rho@Pi_Z_mas))\n",
        "    P_Z_menos = np.real_if_close(np.trace(rho@Pi_Z_menos))\n",
        "    return P_X_mas, P_X_menos, P_Y_mas, P_Y_menos, P_Z_mas, P_Z_menos"
      ],
      "metadata": {
        "id": "RGR2wWzHTHE2"
      },
      "execution_count": null,
      "outputs": []
    },
    {
      "cell_type": "code",
      "source": [
        "probabilidades(rho_1)"
      ],
      "metadata": {
        "colab": {
          "base_uri": "https://localhost:8080/"
        },
        "id": "vNc-q6o1el9_",
        "outputId": "84ebb162-65e0-4666-ddf4-6997c7948278"
      },
      "execution_count": null,
      "outputs": [
        {
          "output_type": "execute_result",
          "data": {
            "text/plain": [
              "(array(0.53280324),\n",
              " array(0.46719676),\n",
              " array(0.4060887),\n",
              " array(0.5939113),\n",
              " array(0.70544356),\n",
              " array(0.29455644))"
            ]
          },
          "metadata": {},
          "execution_count": 14
        }
      ]
    },
    {
      "cell_type": "markdown",
      "source": [
        "**Definimos la función que permite calcular las probabilidades estimadas**:"
      ],
      "metadata": {
        "id": "XxCWYKiRXsNU"
      }
    },
    {
      "cell_type": "code",
      "source": [
        "def probabilidad_estimada(rho,N):\n",
        "    \"\"\"\n",
        "    N: número de veces que se ejecuta el experimento\n",
        "    \"\"\"\n",
        "    P_X_mas, P_X_menos, P_Y_mas, P_Y_menos, P_Z_mas, P_Z_menos = probabilidades(rho)\n",
        "    mediciones_X = np.random.choice([1,-1], size = N, p = [P_X_mas, P_X_menos])\n",
        "    mediciones_Y = np.random.choice([1,-1], size = N, p = [P_Y_mas, P_Y_menos])\n",
        "    mediciones_Z = np.random.choice([1,-1], size = N, p = [P_Z_mas, P_Z_menos])\n",
        "    conteo_x_mas = np.sum(mediciones_X == 1)\n",
        "    conteo_x_menos = np.sum(mediciones_X == -1)\n",
        "    conteo_y_mas = np.sum(mediciones_Y == 1)\n",
        "    conteo_y_menos = np.sum(mediciones_Y == -1)\n",
        "    conteo_z_mas = np.sum(mediciones_Z == 1)\n",
        "    conteo_z_menos = np.sum(mediciones_Z == -1)\n",
        "    P_X_mas_est = conteo_x_mas/N\n",
        "    P_X_menos_est = conteo_x_menos/N\n",
        "    P_Y_mas_est = conteo_y_mas/N\n",
        "    P_Y_menos_est = conteo_y_menos/N\n",
        "    P_Z_mas_est = conteo_z_mas/N\n",
        "    P_Z_menos_est = conteo_z_menos/N\n",
        "    return P_X_mas_est, P_X_menos_est, P_Y_mas_est, P_Y_menos_est, P_Z_mas_est, P_Z_menos_est\n"
      ],
      "metadata": {
        "id": "9tQgV4cAX5Ko"
      },
      "execution_count": null,
      "outputs": []
    },
    {
      "cell_type": "markdown",
      "source": [
        "**Definimos función para encontrar los valores estimados de las matrices de pauli:**"
      ],
      "metadata": {
        "id": "BIkQhCvxaSz2"
      }
    },
    {
      "cell_type": "code",
      "source": [
        "def estiimados_pauli(rho,N):\n",
        "    P_X_mas_est, P_X_menos_est, P_Y_mas_est, P_Y_menos_est, P_Z_mas_est, P_Z_menos_est = probabilidad_estimada(rho,N)\n",
        "    E_X = np.dot(valores_propios_X,np.array([P_X_mas_est,P_X_menos_est]))\n",
        "    E_Y = np.dot(valores_propios_Y,np.array([P_Y_mas_est,P_X_menos_est]))\n",
        "    E_Z = np.dot(valores_propios_Z,np.array([P_Z_mas_est,P_Z_menos_est]))\n",
        "    return E_X, E_Y, E_Z\n"
      ],
      "metadata": {
        "id": "r1gVDRm2aFsz"
      },
      "execution_count": null,
      "outputs": []
    },
    {
      "cell_type": "code",
      "source": [
        "def estimacion_matriz_densidad(rho,N):\n",
        "    E_X, E_Y, E_Z = estiimados_pauli(rho,N)\n",
        "    rho_estimado = 0.5*(I+E_X*X+E_Y*Y+E_Z*Z)\n",
        "    return rho_estimado"
      ],
      "metadata": {
        "id": "Msw4UiVgdbEP"
      },
      "execution_count": null,
      "outputs": []
    },
    {
      "cell_type": "markdown",
      "source": [
        "**Creamos la función para verificar si es un estado cuántico**:"
      ],
      "metadata": {
        "id": "a1Zvwd29PJNo"
      }
    },
    {
      "cell_type": "code",
      "source": [
        "def IsAnState(rho):\n",
        "    valores_propios, vectores_propios = np.linalg.eig(rho)\n",
        "    if np.all(valores_propios >= 0):\n",
        "        return True\n",
        "    else:\n",
        "        return False\n"
      ],
      "metadata": {
        "id": "I8T4JbILPMtn"
      },
      "execution_count": null,
      "outputs": []
    },
    {
      "cell_type": "code",
      "source": [
        "IsAnState(rho_1)"
      ],
      "metadata": {
        "colab": {
          "base_uri": "https://localhost:8080/"
        },
        "id": "oa6rPfsbgdCM",
        "outputId": "158dc51b-119f-4d5c-9631-c4df9b2b9bbb"
      },
      "execution_count": null,
      "outputs": [
        {
          "output_type": "execute_result",
          "data": {
            "text/plain": [
              "True"
            ]
          },
          "metadata": {},
          "execution_count": 19
        }
      ]
    },
    {
      "cell_type": "code",
      "source": [
        "np.trace(rho_1)"
      ],
      "metadata": {
        "colab": {
          "base_uri": "https://localhost:8080/"
        },
        "id": "Z1GrVjJygdQy",
        "outputId": "227206da-16be-4736-ee80-4a2dba5363dd"
      },
      "execution_count": null,
      "outputs": [
        {
          "output_type": "execute_result",
          "data": {
            "text/plain": [
              "np.complex128(1+0j)"
            ]
          },
          "metadata": {},
          "execution_count": 20
        }
      ]
    },
    {
      "cell_type": "code",
      "source": [
        "IsAnState(estimacion_matriz_densidad(estado_aleatorio(),100))"
      ],
      "metadata": {
        "colab": {
          "base_uri": "https://localhost:8080/"
        },
        "id": "11Wj1POOQXjn",
        "outputId": "6d9f6fae-1ff9-4e82-e928-41a4735847d3"
      },
      "execution_count": null,
      "outputs": [
        {
          "output_type": "execute_result",
          "data": {
            "text/plain": [
              "True"
            ]
          },
          "metadata": {},
          "execution_count": 21
        }
      ]
    },
    {
      "cell_type": "markdown",
      "source": [
        "**Ahora hacemos el script que hará la simulación dado un tamaño de ensamble dado:**"
      ],
      "metadata": {
        "id": "K9cppyiUsB50"
      }
    },
    {
      "cell_type": "code",
      "source": [
        "def nya(N):\n",
        "  n_si=0\n",
        "  n_no=0\n",
        "  for i in range(100):\n",
        "    rho = estado_aleatorio()\n",
        "    if IsAnState(estimacion_matriz_densidad(rho,N)):\n",
        "      n_si = n_si + 1\n",
        "    else:\n",
        "      n_no = n_no + 1\n",
        "    i = i+1\n",
        "  return n_si, n_no"
      ],
      "metadata": {
        "id": "RN3Ns4gWd9Je"
      },
      "execution_count": null,
      "outputs": []
    },
    {
      "cell_type": "code",
      "source": [
        "nya(10)"
      ],
      "metadata": {
        "colab": {
          "base_uri": "https://localhost:8080/"
        },
        "id": "_0Ic-X28tN1s",
        "outputId": "a0eec70b-9bb3-4fea-cdfa-e01a8054047b"
      },
      "execution_count": null,
      "outputs": [
        {
          "output_type": "execute_result",
          "data": {
            "text/plain": [
              "(83, 17)"
            ]
          },
          "metadata": {},
          "execution_count": 24
        }
      ]
    },
    {
      "cell_type": "code",
      "source": [
        "nya(100)"
      ],
      "metadata": {
        "colab": {
          "base_uri": "https://localhost:8080/"
        },
        "id": "mfLQIOustUiM",
        "outputId": "7dc338f2-a1ed-4685-b763-00e4c615aa8c"
      },
      "execution_count": null,
      "outputs": [
        {
          "output_type": "execute_result",
          "data": {
            "text/plain": [
              "(90, 10)"
            ]
          },
          "metadata": {},
          "execution_count": 25
        }
      ]
    },
    {
      "cell_type": "code",
      "source": [
        "nya(1000)"
      ],
      "metadata": {
        "colab": {
          "base_uri": "https://localhost:8080/"
        },
        "id": "4Z8ndpRYucjU",
        "outputId": "964ae3d0-c889-4ced-e776-4fd52c777d52"
      },
      "execution_count": null,
      "outputs": [
        {
          "output_type": "execute_result",
          "data": {
            "text/plain": [
              "(92, 8)"
            ]
          },
          "metadata": {},
          "execution_count": 26
        }
      ]
    },
    {
      "cell_type": "code",
      "source": [
        "nya(10000)"
      ],
      "metadata": {
        "colab": {
          "base_uri": "https://localhost:8080/"
        },
        "id": "MZjxl8Lkud9K",
        "outputId": "3e6bfcdf-5b9d-47b4-ce54-b58b42c12eec"
      },
      "execution_count": null,
      "outputs": [
        {
          "output_type": "execute_result",
          "data": {
            "text/plain": [
              "(94, 6)"
            ]
          },
          "metadata": {},
          "execution_count": 27
        }
      ]
    },
    {
      "cell_type": "code",
      "source": [
        "nya(100000)"
      ],
      "metadata": {
        "colab": {
          "base_uri": "https://localhost:8080/"
        },
        "id": "8LtknU7Auf4K",
        "outputId": "d362f87f-76d7-4057-afb3-9ddcc0e30310"
      },
      "execution_count": null,
      "outputs": [
        {
          "output_type": "execute_result",
          "data": {
            "text/plain": [
              "(95, 5)"
            ]
          },
          "metadata": {},
          "execution_count": 28
        }
      ]
    },
    {
      "cell_type": "code",
      "source": [
        "nya(1000000)"
      ],
      "metadata": {
        "id": "w9Gy4Yafuhpq",
        "colab": {
          "base_uri": "https://localhost:8080/"
        },
        "outputId": "b2f1ee91-f360-4aa1-f1ac-8e5c4a99244a"
      },
      "execution_count": null,
      "outputs": [
        {
          "output_type": "execute_result",
          "data": {
            "text/plain": [
              "(96, 4)"
            ]
          },
          "metadata": {},
          "execution_count": 31
        }
      ]
    },
    {
      "cell_type": "code",
      "source": [
        "nya(10000000)"
      ],
      "metadata": {
        "colab": {
          "base_uri": "https://localhost:8080/"
        },
        "id": "GM1ywvC61oX7",
        "outputId": "e3baaf0d-49a0-49e7-d5f5-47ae53776e47"
      },
      "execution_count": null,
      "outputs": [
        {
          "output_type": "execute_result",
          "data": {
            "text/plain": [
              "(93, 7)"
            ]
          },
          "metadata": {},
          "execution_count": 32
        }
      ]
    },
    {
      "cell_type": "code",
      "source": [
        "nya(10000000)"
      ],
      "metadata": {
        "colab": {
          "base_uri": "https://localhost:8080/"
        },
        "id": "AuFFg0HR2j9U",
        "outputId": "b9bc9ec3-0e59-43a7-cf6c-f632d1a9e872"
      },
      "execution_count": null,
      "outputs": [
        {
          "output_type": "execute_result",
          "data": {
            "text/plain": [
              "(95, 5)"
            ]
          },
          "metadata": {},
          "execution_count": 33
        }
      ]
    },
    {
      "cell_type": "code",
      "source": [
        "nya(10000000)"
      ],
      "metadata": {
        "colab": {
          "base_uri": "https://localhost:8080/"
        },
        "id": "gfNJ-WU13Iub",
        "outputId": "37126ed1-8d4c-46d3-bd61-20ac339c5bc3"
      },
      "execution_count": null,
      "outputs": [
        {
          "output_type": "execute_result",
          "data": {
            "text/plain": [
              "(95, 5)"
            ]
          },
          "metadata": {},
          "execution_count": 34
        }
      ]
    },
    {
      "cell_type": "code",
      "source": [
        "nya(100000000)"
      ],
      "metadata": {
        "colab": {
          "base_uri": "https://localhost:8080/"
        },
        "id": "-AtW08G834kq",
        "outputId": "7630eac5-7fc4-46e3-9457-1b10a45626d4"
      },
      "execution_count": null,
      "outputs": [
        {
          "output_type": "execute_result",
          "data": {
            "text/plain": [
              "(97, 3)"
            ]
          },
          "metadata": {},
          "execution_count": 35
        }
      ]
    }
  ]
}