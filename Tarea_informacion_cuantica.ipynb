{
  "nbformat": 4,
  "nbformat_minor": 0,
  "metadata": {
    "colab": {
      "provenance": [],
      "authorship_tag": "ABX9TyNXcIjAMlwV3Iu5P4Kk3ImS",
      "include_colab_link": true
    },
    "kernelspec": {
      "name": "python3",
      "display_name": "Python 3"
    },
    "language_info": {
      "name": "python"
    }
  },
  "cells": [
    {
      "cell_type": "markdown",
      "metadata": {
        "id": "view-in-github",
        "colab_type": "text"
      },
      "source": [
        "<a href=\"https://colab.research.google.com/github/Ufoan/Problema-optimizacion/blob/main/Tarea_informacion_cuantica.ipynb\" target=\"_parent\"><img src=\"https://colab.research.google.com/assets/colab-badge.svg\" alt=\"Open In Colab\"/></a>"
      ]
    },
    {
      "cell_type": "markdown",
      "source": [
        "# Paquetes"
      ],
      "metadata": {
        "id": "moD-0wMyIlXa"
      }
    },
    {
      "cell_type": "code",
      "execution_count": 211,
      "metadata": {
        "id": "013Vk3MmHmwF"
      },
      "outputs": [],
      "source": [
        "import numpy as np\n",
        "import scipy\n",
        "import matplotlib.pyplot as plt"
      ]
    },
    {
      "cell_type": "markdown",
      "source": [
        "# Creación de funciones"
      ],
      "metadata": {
        "id": "SwUkdhSFIzoG"
      }
    },
    {
      "cell_type": "markdown",
      "source": [
        "**Definición matrices de Pauli e identidad:**"
      ],
      "metadata": {
        "id": "d_o1Lg_ZLrZd"
      }
    },
    {
      "cell_type": "code",
      "source": [
        "X = np.array([[0,1],[1,0]],dtype=complex)\n",
        "Y = np.array([[0,-1j],[1j,0]],dtype=complex)\n",
        "Z = np.array([[1,0],[0,-1]],dtype=complex)\n",
        "I = np.eye(2,dtype=complex)"
      ],
      "metadata": {
        "id": "uu65-XZQI4Cf"
      },
      "execution_count": 4,
      "outputs": []
    },
    {
      "cell_type": "markdown",
      "source": [
        "**Encontamos los vectores propios de las matrices de Pauli y los respectivos proyectores:**"
      ],
      "metadata": {
        "id": "HySJ4JGuRH-W"
      }
    },
    {
      "cell_type": "code",
      "source": [
        "valores_propios_X, vectores_propios_X = np.linalg.eig(X)\n",
        "valores_propios_Y, vectores_propios_Y = np.linalg.eig(Y)\n",
        "valores_propios_Z, vectores_propios_Z = np.linalg.eig(Z)\n",
        "id_mas_X = np.argmin(np.abs(valores_propios_X-1))\n",
        "id_menos_X = np.argmin(np.abs(valores_propios_X+1))\n",
        "id_mas_Y = np.argmin(np.abs(valores_propios_Y-1))\n",
        "id_menos_Y = np.argmin(np.abs(valores_propios_Y+1))\n",
        "id_mas_Z = np.argmin(np.abs(valores_propios_Z-1))\n",
        "id_menos_Z = np.argmin(np.abs(valores_propios_Z+1))\n",
        "mas_X = vectores_propios_X[:,id_mas_X]\n",
        "menos_X = vectores_propios_X[:,id_menos_X]\n",
        "mas_Y = vectores_propios_Y[:,id_mas_Y]\n",
        "menos_Y = vectores_propios_Y[:,id_menos_Y]\n",
        "mas_Z = vectores_propios_Z[:,id_mas_Z]\n",
        "menos_Z = vectores_propios_Z[:,id_menos_Z]\n",
        "Pi_X_mas = np.outer(mas_X,mas_X.conj())\n",
        "Pi_Y_mas = np.outer(mas_Y,mas_Y.conj())\n",
        "Pi_Z_mas = np.outer(mas_Z,mas_Z.conj())\n",
        "Pi_X_menos = np.outer(menos_X,menos_X.conj())\n",
        "Pi_Y_menos = np.outer(menos_Y,menos_Y.conj())\n",
        "Pi_Z_menos = np.outer(menos_Z,menos_Z.conj())"
      ],
      "metadata": {
        "id": "t5NBKkR8Qulh"
      },
      "execution_count": 71,
      "outputs": []
    },
    {
      "cell_type": "code",
      "source": [
        "Pi_Y_mas"
      ],
      "metadata": {
        "colab": {
          "base_uri": "https://localhost:8080/"
        },
        "id": "0hG_D2z8koaV",
        "outputId": "16228b4f-a233-425b-f613-bbd337469e9d"
      },
      "execution_count": 72,
      "outputs": [
        {
          "output_type": "execute_result",
          "data": {
            "text/plain": [
              "array([[ 0.5+0.j , -0. -0.5j],\n",
              "       [-0. +0.5j,  0.5+0.j ]])"
            ]
          },
          "metadata": {},
          "execution_count": 72
        }
      ]
    },
    {
      "cell_type": "code",
      "source": [
        "Pi_Y_menos"
      ],
      "metadata": {
        "colab": {
          "base_uri": "https://localhost:8080/"
        },
        "id": "AgUmdA1rk0DI",
        "outputId": "b14f4797-b8f3-4a62-f713-ed023538b32d"
      },
      "execution_count": 73,
      "outputs": [
        {
          "output_type": "execute_result",
          "data": {
            "text/plain": [
              "array([[0.5+0.j , 0. +0.5j],\n",
              "       [0. -0.5j, 0.5+0.j ]])"
            ]
          },
          "metadata": {},
          "execution_count": 73
        }
      ]
    },
    {
      "cell_type": "markdown",
      "source": [
        "**Crear de manera aleatoria un $\\rho$, encontrando aleatoriamente un vector $\\vec{a}$ con $\\|\\vec{a}\\|\\leq 1$**"
      ],
      "metadata": {
        "id": "9OPWAAW0Lxik"
      }
    },
    {
      "cell_type": "code",
      "source": [
        "def estado_aleatorio():\n",
        "    a_init = np.random.normal(0,1,3) #dirección aleatoria\n",
        "    a_init_norm = a_init/np.linalg.norm(a_init) #vector en S2 normalizado, generado aleatoriamente, ahora falta dentro de la bola\n",
        "    r = np.random.rand()**(1/3) #un radio aleatorio\n",
        "    a = r * a_init_norm #el a\n",
        "    rho = 0.5*(I+a[0]*X+a[1]*Y+a[2]*Z)\n",
        "    return rho\n",
        "\n",
        ""
      ],
      "metadata": {
        "id": "2m2qBkzVMLXw"
      },
      "execution_count": 74,
      "outputs": []
    },
    {
      "cell_type": "code",
      "source": [
        "rho_1 = estado_aleatorio()\n",
        "rho_1"
      ],
      "metadata": {
        "colab": {
          "base_uri": "https://localhost:8080/"
        },
        "id": "wu1kvzy3MGCb",
        "outputId": "6dc41842-99ae-4662-aa12-0b048702ea3b"
      },
      "execution_count": 75,
      "outputs": [
        {
          "output_type": "execute_result",
          "data": {
            "text/plain": [
              "array([[ 0.34752502+0.j        , -0.20679095+0.26089829j],\n",
              "       [-0.20679095-0.26089829j,  0.65247498+0.j        ]])"
            ]
          },
          "metadata": {},
          "execution_count": 75
        }
      ]
    },
    {
      "cell_type": "markdown",
      "source": [
        "**Definimos función para calcular las probabilidades $P(\\pm (i))$:**"
      ],
      "metadata": {
        "id": "PXQE02NYS6Z-"
      }
    },
    {
      "cell_type": "code",
      "source": [
        "def probabilidades(rho):\n",
        "    P_X_mas = np.real_if_close(np.trace(rho@Pi_X_mas))\n",
        "    P_X_menos = np.real_if_close(np.trace(rho@Pi_X_menos))\n",
        "    P_Y_mas = np.real_if_close(np.trace(rho@Pi_Y_mas))\n",
        "    P_Y_menos = np.real_if_close(np.trace(rho@Pi_Y_menos))\n",
        "    P_Z_mas = np.real_if_close(np.trace(rho@Pi_Z_mas))\n",
        "    P_Z_menos = np.real_if_close(np.trace(rho@Pi_Z_menos))\n",
        "    return P_X_mas, P_X_menos, P_Y_mas, P_Y_menos, P_Z_mas, P_Z_menos"
      ],
      "metadata": {
        "id": "RGR2wWzHTHE2"
      },
      "execution_count": 78,
      "outputs": []
    },
    {
      "cell_type": "code",
      "source": [
        "probabilidades(rho_1)"
      ],
      "metadata": {
        "colab": {
          "base_uri": "https://localhost:8080/"
        },
        "id": "vNc-q6o1el9_",
        "outputId": "f939a859-be09-4a9c-a4fe-5d90c0ef3168"
      },
      "execution_count": 79,
      "outputs": [
        {
          "output_type": "execute_result",
          "data": {
            "text/plain": [
              "(array(0.29320905),\n",
              " array(0.70679095),\n",
              " array(0.23910171),\n",
              " array(0.76089829),\n",
              " array(0.34752502),\n",
              " array(0.65247498))"
            ]
          },
          "metadata": {},
          "execution_count": 79
        }
      ]
    },
    {
      "cell_type": "markdown",
      "source": [
        "**Definimos la función que permite calcular las probabilidades estimadas**:"
      ],
      "metadata": {
        "id": "XxCWYKiRXsNU"
      }
    },
    {
      "cell_type": "code",
      "source": [
        "def probabilidad_estimada(rho,N):\n",
        "    \"\"\"\n",
        "    N: número de veces que se ejecuta el experimento\n",
        "    \"\"\"\n",
        "    P_X_mas, P_X_menos, P_Y_mas, P_Y_menos, P_Z_mas, P_Z_menos = probabilidades(rho)\n",
        "    mediciones_X = np.random.choice([1,-1], size = N, p = [P_X_mas, P_X_menos])\n",
        "    mediciones_Y = np.random.choice([1,-1], size = N, p = [P_Y_mas, P_Y_menos])\n",
        "    mediciones_Z = np.random.choice([1,-1], size = N, p = [P_Z_mas, P_Z_menos])\n",
        "    conteo_x_mas = np.sum(mediciones_X == 1)\n",
        "    conteo_x_menos = np.sum(mediciones_X == -1)\n",
        "    conteo_y_mas = np.sum(mediciones_Y == 1)\n",
        "    conteo_y_menos = np.sum(mediciones_Y == -1)\n",
        "    conteo_z_mas = np.sum(mediciones_Z == 1)\n",
        "    conteo_z_menos = np.sum(mediciones_Z == -1)\n",
        "    P_X_mas_est = conteo_x_mas/N\n",
        "    P_X_menos_est = conteo_x_menos/N\n",
        "    P_Y_mas_est = conteo_y_mas/N\n",
        "    P_Y_menos_est = conteo_y_menos/N\n",
        "    P_Z_mas_est = conteo_z_mas/N\n",
        "    P_Z_menos_est = conteo_z_menos/N\n",
        "    return P_X_mas_est, P_X_menos_est, P_Y_mas_est, P_Y_menos_est, P_Z_mas_est, P_Z_menos_est\n"
      ],
      "metadata": {
        "id": "9tQgV4cAX5Ko"
      },
      "execution_count": 80,
      "outputs": []
    },
    {
      "cell_type": "markdown",
      "source": [
        "**Definimos función para encontrar los valores estimados de las matrices de pauli:**"
      ],
      "metadata": {
        "id": "BIkQhCvxaSz2"
      }
    },
    {
      "cell_type": "code",
      "source": [
        "def estiimados_pauli(rho,N):\n",
        "    P_X_mas_est, P_X_menos_est, P_Y_mas_est, P_Y_menos_est, P_Z_mas_est, P_Z_menos_est = probabilidad_estimada(rho,N)\n",
        "    E_X = np.dot(valores_propios_X,np.array([P_X_mas_est,P_X_menos_est]))\n",
        "    E_Y = np.dot(valores_propios_Y,np.array([P_Y_mas_est,P_X_menos_est]))\n",
        "    E_Z = np.dot(valores_propios_Z,np.array([P_Z_mas_est,P_Z_menos_est]))\n",
        "    return E_X, E_Y, E_Z\n"
      ],
      "metadata": {
        "id": "r1gVDRm2aFsz"
      },
      "execution_count": 88,
      "outputs": []
    },
    {
      "cell_type": "code",
      "source": [
        "def estimacion_matriz_densidad(rho,N):\n",
        "    E_X, E_Y, E_Z = estiimados_pauli(rho,N)\n",
        "    rho_estimado = 0.5*(I+E_X*X+E_Y*Y+E_Z*Z)\n",
        "    return rho_estimado"
      ],
      "metadata": {
        "id": "Msw4UiVgdbEP"
      },
      "execution_count": 89,
      "outputs": []
    },
    {
      "cell_type": "markdown",
      "source": [
        "**Creamos la función para verificar si es un estado cuántico**:"
      ],
      "metadata": {
        "id": "a1Zvwd29PJNo"
      }
    },
    {
      "cell_type": "code",
      "source": [
        "def IsAnState(rho):\n",
        "    valores_propios, vectores_propios = np.linalg.eig(rho)\n",
        "    if np.all(valores_propios >= 0):\n",
        "        return True\n",
        "    else:\n",
        "        return False\n"
      ],
      "metadata": {
        "id": "I8T4JbILPMtn"
      },
      "execution_count": 90,
      "outputs": []
    },
    {
      "cell_type": "code",
      "source": [
        "IsAnState(rho_1)"
      ],
      "metadata": {
        "colab": {
          "base_uri": "https://localhost:8080/"
        },
        "id": "oa6rPfsbgdCM",
        "outputId": "48144d26-d02f-4d84-d8aa-5f0b1e57c7c5"
      },
      "execution_count": 91,
      "outputs": [
        {
          "output_type": "execute_result",
          "data": {
            "text/plain": [
              "True"
            ]
          },
          "metadata": {},
          "execution_count": 91
        }
      ]
    },
    {
      "cell_type": "code",
      "source": [
        "np.trace(rho_1)"
      ],
      "metadata": {
        "colab": {
          "base_uri": "https://localhost:8080/"
        },
        "id": "Z1GrVjJygdQy",
        "outputId": "39117082-513c-4ffd-a335-48d0de60fed1"
      },
      "execution_count": 92,
      "outputs": [
        {
          "output_type": "execute_result",
          "data": {
            "text/plain": [
              "np.complex128(1+0j)"
            ]
          },
          "metadata": {},
          "execution_count": 92
        }
      ]
    },
    {
      "cell_type": "code",
      "source": [
        "IsAnState(estimacion_matriz_densidad(estado_aleatorio(),100))"
      ],
      "metadata": {
        "colab": {
          "base_uri": "https://localhost:8080/"
        },
        "id": "11Wj1POOQXjn",
        "outputId": "9d25b73c-a385-4ad5-d3c3-11a3e21d9d53"
      },
      "execution_count": 156,
      "outputs": [
        {
          "output_type": "execute_result",
          "data": {
            "text/plain": [
              "True"
            ]
          },
          "metadata": {},
          "execution_count": 156
        }
      ]
    },
    {
      "cell_type": "markdown",
      "source": [
        "**Ahora hacemos el script que hará la simulación dado un tamaño de ensamble dado:**"
      ],
      "metadata": {
        "id": "K9cppyiUsB50"
      }
    },
    {
      "cell_type": "code",
      "source": [
        "def nya(N):\n",
        "  n_si=0\n",
        "  n_no=0\n",
        "  for i in range(N):\n",
        "    rho = estado_aleatorio()\n",
        "    if IsAnState(estimacion_matriz_densidad(rho,100)):\n",
        "      n_si = n_si + 1\n",
        "    else:\n",
        "      n_no = n_no + 1\n",
        "    i = i+1\n",
        "  return n_si, n_no"
      ],
      "metadata": {
        "id": "RN3Ns4gWd9Je"
      },
      "execution_count": 218,
      "outputs": []
    },
    {
      "cell_type": "code",
      "source": [
        "nya(10)"
      ],
      "metadata": {
        "colab": {
          "base_uri": "https://localhost:8080/"
        },
        "id": "_0Ic-X28tN1s",
        "outputId": "75923e88-d0c9-468d-f1d0-9cadcb26fc5f"
      },
      "execution_count": 219,
      "outputs": [
        {
          "output_type": "execute_result",
          "data": {
            "text/plain": [
              "(10, 0)"
            ]
          },
          "metadata": {},
          "execution_count": 219
        }
      ]
    },
    {
      "cell_type": "code",
      "source": [
        "nya(100)"
      ],
      "metadata": {
        "colab": {
          "base_uri": "https://localhost:8080/"
        },
        "id": "mfLQIOustUiM",
        "outputId": "15b777e8-9efe-4142-afc7-f8257669d5e0"
      },
      "execution_count": 220,
      "outputs": [
        {
          "output_type": "execute_result",
          "data": {
            "text/plain": [
              "(90, 10)"
            ]
          },
          "metadata": {},
          "execution_count": 220
        }
      ]
    },
    {
      "cell_type": "code",
      "source": [
        "nya(1000)"
      ],
      "metadata": {
        "colab": {
          "base_uri": "https://localhost:8080/"
        },
        "id": "4Z8ndpRYucjU",
        "outputId": "294ae1a2-289e-4d48-9294-8e43bedbc599"
      },
      "execution_count": 221,
      "outputs": [
        {
          "output_type": "execute_result",
          "data": {
            "text/plain": [
              "(906, 94)"
            ]
          },
          "metadata": {},
          "execution_count": 221
        }
      ]
    },
    {
      "cell_type": "code",
      "source": [
        "nya(10000)"
      ],
      "metadata": {
        "colab": {
          "base_uri": "https://localhost:8080/"
        },
        "id": "MZjxl8Lkud9K",
        "outputId": "0e5ca6ae-680f-41b3-acf6-349fd3b78595"
      },
      "execution_count": 222,
      "outputs": [
        {
          "output_type": "execute_result",
          "data": {
            "text/plain": [
              "(9154, 846)"
            ]
          },
          "metadata": {},
          "execution_count": 222
        }
      ]
    },
    {
      "cell_type": "code",
      "source": [
        "nya(100000)"
      ],
      "metadata": {
        "colab": {
          "base_uri": "https://localhost:8080/"
        },
        "id": "8LtknU7Auf4K",
        "outputId": "8067498e-9444-49d6-ec8a-c8bdfc460427"
      },
      "execution_count": 223,
      "outputs": [
        {
          "output_type": "execute_result",
          "data": {
            "text/plain": [
              "(91827, 8173)"
            ]
          },
          "metadata": {},
          "execution_count": 223
        }
      ]
    },
    {
      "cell_type": "code",
      "source": [],
      "metadata": {
        "id": "w9Gy4Yafuhpq"
      },
      "execution_count": null,
      "outputs": []
    }
  ]
}